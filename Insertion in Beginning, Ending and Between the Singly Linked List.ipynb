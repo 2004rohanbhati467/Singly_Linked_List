{
 "cells": [
  {
   "cell_type": "markdown",
   "id": "f29587e8",
   "metadata": {},
   "source": [
    "### Create Node"
   ]
  },
  {
   "cell_type": "code",
   "execution_count": 1,
   "id": "54916c58",
   "metadata": {},
   "outputs": [],
   "source": [
    "class Node:\n",
    "    def __init__(self,data):\n",
    "        self.data=data\n",
    "        self.ref=None"
   ]
  },
  {
   "cell_type": "markdown",
   "id": "e6dd429d",
   "metadata": {},
   "source": [
    "### Insertion Operaions -> Beginning, Ending, Between the List"
   ]
  },
  {
   "cell_type": "code",
   "execution_count": 2,
   "id": "0494d84c",
   "metadata": {},
   "outputs": [],
   "source": [
    "class Singly_Linked_List:\n",
    "    def __init__(self):\n",
    "        self.head=None\n",
    "    \n",
    "    # add in the beginnning of List\n",
    "    def add_beginning(self,data):\n",
    "        new_node=Node(data)\n",
    "        new_node.ref=self.head\n",
    "        self.head=new_node\n",
    "    \n",
    "    # add between the nodes of List\n",
    "    def add_between(self,data,x):\n",
    "        new_node=Node(data)\n",
    "        if self.head is None:\n",
    "            self.head=new_node\n",
    "        else:\n",
    "            n=self.head\n",
    "            while n is not None:\n",
    "                if n.data==x:\n",
    "                    break\n",
    "                n=n.ref\n",
    "            if n is None:\n",
    "                print('After node you want to add data, node is not present in the list\\n')\n",
    "            else:\n",
    "                new_node.ref=n.ref\n",
    "                n.ref=new_node\n",
    "    \n",
    "    # add in the last of List\n",
    "    def add_last(self,data):\n",
    "        new_node=Node(data)\n",
    "        if self.head is None:\n",
    "            self.head=new_node\n",
    "        else:\n",
    "            n=self.head\n",
    "            while n.ref is not None:\n",
    "                n=n.ref\n",
    "            n.ref=new_node\n",
    "    \n",
    "    def Print_Linked_List(self):\n",
    "        if self.head is None:\n",
    "            print('Linked List is Empty!')\n",
    "        else:\n",
    "            n=self.head\n",
    "            while n is not None:\n",
    "                print(n.data,end=' ')\n",
    "                n=n.ref"
   ]
  },
  {
   "cell_type": "code",
   "execution_count": 3,
   "id": "35638ea4",
   "metadata": {},
   "outputs": [],
   "source": [
    "List=Singly_Linked_List()"
   ]
  },
  {
   "cell_type": "code",
   "execution_count": 4,
   "id": "0737952c",
   "metadata": {},
   "outputs": [
    {
     "name": "stdout",
     "output_type": "stream",
     "text": [
      "Linked List is Empty!\n"
     ]
    }
   ],
   "source": [
    "List.Print_Linked_List()"
   ]
  },
  {
   "cell_type": "code",
   "execution_count": 5,
   "id": "08a945f3",
   "metadata": {},
   "outputs": [],
   "source": [
    "List.add_beginning(20)\n",
    "List.add_last(50)\n",
    "List.add_between(40,20)"
   ]
  },
  {
   "cell_type": "code",
   "execution_count": 6,
   "id": "f3488859",
   "metadata": {},
   "outputs": [
    {
     "name": "stdout",
     "output_type": "stream",
     "text": [
      "20 40 50 "
     ]
    }
   ],
   "source": [
    "List.Print_Linked_List()"
   ]
  },
  {
   "cell_type": "code",
   "execution_count": 7,
   "id": "6c422eda",
   "metadata": {},
   "outputs": [],
   "source": [
    "List.add_between(30,20)"
   ]
  },
  {
   "cell_type": "code",
   "execution_count": 8,
   "id": "922b4b5d",
   "metadata": {},
   "outputs": [
    {
     "name": "stdout",
     "output_type": "stream",
     "text": [
      "20 30 40 50 "
     ]
    }
   ],
   "source": [
    "List.Print_Linked_List()"
   ]
  },
  {
   "cell_type": "code",
   "execution_count": 9,
   "id": "0356f3ca",
   "metadata": {},
   "outputs": [],
   "source": [
    "List.add_last(60)"
   ]
  },
  {
   "cell_type": "code",
   "execution_count": 10,
   "id": "1e33493d",
   "metadata": {},
   "outputs": [
    {
     "name": "stdout",
     "output_type": "stream",
     "text": [
      "20 30 40 50 60 "
     ]
    }
   ],
   "source": [
    "List.Print_Linked_List()"
   ]
  },
  {
   "cell_type": "code",
   "execution_count": 11,
   "id": "937ee5cf",
   "metadata": {},
   "outputs": [],
   "source": [
    "List.add_beginning(10)"
   ]
  },
  {
   "cell_type": "code",
   "execution_count": 12,
   "id": "0938d94a",
   "metadata": {},
   "outputs": [
    {
     "name": "stdout",
     "output_type": "stream",
     "text": [
      "10 20 30 40 50 60 "
     ]
    }
   ],
   "source": [
    "List.Print_Linked_List()"
   ]
  }
 ],
 "metadata": {
  "kernelspec": {
   "display_name": "Python 3 (ipykernel)",
   "language": "python",
   "name": "python3"
  },
  "language_info": {
   "codemirror_mode": {
    "name": "ipython",
    "version": 3
   },
   "file_extension": ".py",
   "mimetype": "text/x-python",
   "name": "python",
   "nbconvert_exporter": "python",
   "pygments_lexer": "ipython3",
   "version": "3.11.5"
  }
 },
 "nbformat": 4,
 "nbformat_minor": 5
}

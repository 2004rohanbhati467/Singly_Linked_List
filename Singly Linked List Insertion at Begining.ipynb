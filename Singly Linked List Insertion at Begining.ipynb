{
 "cells": [
  {
   "cell_type": "markdown",
   "id": "16adc915",
   "metadata": {},
   "source": [
    "# Singly Linked List Insertion an Beginning"
   ]
  },
  {
   "cell_type": "markdown",
   "id": "f35c4db1",
   "metadata": {},
   "source": [
    "Single linked list is a sequence of elements in which every element has link to its next element in the sequence."
   ]
  },
  {
   "cell_type": "markdown",
   "id": "edf222fc",
   "metadata": {},
   "source": [
    "In any single linked list, the individual element is called as \"Node\"."
   ]
  },
  {
   "cell_type": "markdown",
   "id": "5cb68d8b",
   "metadata": {},
   "source": [
    "Every \"Node\" contains two fields: data field and the next field."
   ]
  },
  {
   "cell_type": "markdown",
   "id": "d2a5be0c",
   "metadata": {},
   "source": [
    "The data field is used to store actual value of the node and next field is used to store the address of next node in the sequence."
   ]
  },
  {
   "cell_type": "markdown",
   "id": "da5b6ad6",
   "metadata": {},
   "source": [
    "In a single linked list, the address of the first node is always stored in a reference node known as “start\" (Some times it is also known as \"head\")."
   ]
  },
  {
   "cell_type": "markdown",
   "id": "c534f699",
   "metadata": {},
   "source": [
    "Always next part (reference part) of the last node must be NULL"
   ]
  },
  {
   "cell_type": "markdown",
   "id": "a3777fa5",
   "metadata": {},
   "source": [
    "### Create Node"
   ]
  },
  {
   "cell_type": "code",
   "execution_count": 1,
   "id": "7e7c7cb5",
   "metadata": {},
   "outputs": [],
   "source": [
    "class Node:\n",
    "    def __init__(self,data):\n",
    "        self.data=data\n",
    "        self.ref=None"
   ]
  },
  {
   "cell_type": "markdown",
   "id": "c1c9e451",
   "metadata": {},
   "source": [
    "### Singly Linked List "
   ]
  },
  {
   "cell_type": "code",
   "execution_count": 2,
   "id": "ad1c4f39",
   "metadata": {},
   "outputs": [],
   "source": [
    "class LinkedList:\n",
    "    def __init__(self):\n",
    "        self.head=None\n",
    "    def print_Linked_List(self):\n",
    "        if self.head is None:\n",
    "            print('Linked List is Empty!')\n",
    "        else:\n",
    "            n=self.head\n",
    "            while n is not None:\n",
    "                print(n.data,end=' ')\n",
    "                n=n.ref\n",
    "    \n",
    "#   INSERTION LOGIC\n",
    "    def add_begin(self,data):\n",
    "        new_node=Node(data)\n",
    "        new_node.ref=self.head\n",
    "        self.head=new_node"
   ]
  },
  {
   "cell_type": "markdown",
   "id": "55c7ffe9",
   "metadata": {},
   "source": [
    "### Insertion in Beginning"
   ]
  },
  {
   "cell_type": "markdown",
   "id": "b47cef57",
   "metadata": {},
   "source": [
    "Object (List) created of class LinkedList. Then construction call autamatically and initially assign head as NULL.\n",
    "then we call add_begin() function to insert element at beginning then new_node=Node(data) call Linked List it create two\n",
    "fields of node data and reference. Then reference of new node contain head reference and head contains reference of\n",
    "new_node.\n",
    "\n",
    "Then we traverse linked list using print_Linked_List() function in which if condition head is null or not if true so \n",
    "it print linked list is empty otherwise it traverse linked list till node reference is not null."
   ]
  },
  {
   "cell_type": "code",
   "execution_count": 3,
   "id": "18106581",
   "metadata": {},
   "outputs": [],
   "source": [
    "List=LinkedList()"
   ]
  },
  {
   "cell_type": "markdown",
   "id": "bcadd401",
   "metadata": {},
   "source": [
    "### Add Nodes"
   ]
  },
  {
   "cell_type": "code",
   "execution_count": 4,
   "id": "bf86da94",
   "metadata": {},
   "outputs": [],
   "source": [
    "List.add_begin(10)\n",
    "List.add_begin(20)\n",
    "List.add_begin(30)"
   ]
  },
  {
   "cell_type": "markdown",
   "id": "7b2f4ed0",
   "metadata": {},
   "source": [
    "### Traverse"
   ]
  },
  {
   "cell_type": "code",
   "execution_count": 5,
   "id": "819f5693",
   "metadata": {},
   "outputs": [
    {
     "name": "stdout",
     "output_type": "stream",
     "text": [
      "30 20 10 "
     ]
    }
   ],
   "source": [
    "List.print_Linked_List()"
   ]
  },
  {
   "cell_type": "code",
   "execution_count": 6,
   "id": "576073e4",
   "metadata": {},
   "outputs": [],
   "source": [
    "List.add_begin(40)\n",
    "List.add_begin(50)"
   ]
  },
  {
   "cell_type": "code",
   "execution_count": 7,
   "id": "25ba02c6",
   "metadata": {},
   "outputs": [
    {
     "name": "stdout",
     "output_type": "stream",
     "text": [
      "50 40 30 20 10 "
     ]
    }
   ],
   "source": [
    "List.print_Linked_List()"
   ]
  }
 ],
 "metadata": {
  "kernelspec": {
   "display_name": "Python 3 (ipykernel)",
   "language": "python",
   "name": "python3"
  },
  "language_info": {
   "codemirror_mode": {
    "name": "ipython",
    "version": 3
   },
   "file_extension": ".py",
   "mimetype": "text/x-python",
   "name": "python",
   "nbconvert_exporter": "python",
   "pygments_lexer": "ipython3",
   "version": "3.11.5"
  }
 },
 "nbformat": 4,
 "nbformat_minor": 5
}

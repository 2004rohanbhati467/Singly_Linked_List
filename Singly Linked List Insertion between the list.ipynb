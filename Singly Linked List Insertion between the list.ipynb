{
 "cells": [
  {
   "cell_type": "markdown",
   "id": "4e13e6eb",
   "metadata": {},
   "source": [
    "### Create Node"
   ]
  },
  {
   "cell_type": "code",
   "execution_count": 1,
   "id": "e105e5c6",
   "metadata": {},
   "outputs": [],
   "source": [
    "class Node:\n",
    "    def __init__(self,data):\n",
    "        self.data=data\n",
    "        self.ref=None"
   ]
  },
  {
   "cell_type": "markdown",
   "id": "5b264598",
   "metadata": {},
   "source": [
    "### add_between() function add new after the given node(data of node)\n",
    "#### 1. Check whether list is empty or not\n",
    "#### 2. If list is empty(self.head==None) create new node as first node\n",
    "#### 3. else we compare x( data, after which we want to insert new node) is present in node or not\n",
    "#### 4. If x is present in list we add node after this,\n",
    "####      new_node->reference=x->reference(x or previous node reference)\n",
    "####      x-reference=new_node(assign previous node address to new-node address)"
   ]
  },
  {
   "cell_type": "code",
   "execution_count": 2,
   "id": "5d6e3b04",
   "metadata": {},
   "outputs": [],
   "source": [
    "class Linked_List:\n",
    "    def __init__(self):\n",
    "        self.head=None\n",
    "    \n",
    "    def Print_Linked_List(self):\n",
    "        if self.head is None:\n",
    "            print('Linked List is empty!\\n')\n",
    "        else:\n",
    "            n=self.head\n",
    "            while n is not None:\n",
    "                print(n.data,end=' ')\n",
    "                n=n.ref\n",
    "    \n",
    "    def add_between(self,data,x):\n",
    "        new_node=Node(data)\n",
    "        if self.head is None:\n",
    "            self.head=new_node\n",
    "        else:\n",
    "            n=self.head\n",
    "            while n is not None:\n",
    "                if n.data==x:\n",
    "                    break\n",
    "                n=n.ref\n",
    "            if n is None:\n",
    "                print('After node you want to add data, node is not present in the list\\n')\n",
    "            else:\n",
    "                new_node.ref=n.ref\n",
    "                n.ref=new_node\n",
    "        "
   ]
  },
  {
   "cell_type": "code",
   "execution_count": 3,
   "id": "03193a52",
   "metadata": {},
   "outputs": [
    {
     "name": "stdout",
     "output_type": "stream",
     "text": [
      "Linked List is empty!\n",
      "\n"
     ]
    }
   ],
   "source": [
    "List=Linked_List()\n",
    "List.Print_Linked_List()"
   ]
  },
  {
   "cell_type": "code",
   "execution_count": 5,
   "id": "237dafb9",
   "metadata": {},
   "outputs": [],
   "source": [
    "List.add_between(10,None)"
   ]
  },
  {
   "cell_type": "code",
   "execution_count": 6,
   "id": "bef6d35e",
   "metadata": {},
   "outputs": [
    {
     "name": "stdout",
     "output_type": "stream",
     "text": [
      "10 "
     ]
    }
   ],
   "source": [
    "List.Print_Linked_List()"
   ]
  },
  {
   "cell_type": "code",
   "execution_count": 7,
   "id": "b8903ba3",
   "metadata": {},
   "outputs": [
    {
     "name": "stdout",
     "output_type": "stream",
     "text": [
      "After node you want to add data not present in the list\n",
      "\n"
     ]
    }
   ],
   "source": [
    "List.add_between(20,None)"
   ]
  },
  {
   "cell_type": "code",
   "execution_count": 8,
   "id": "8b833e1e",
   "metadata": {},
   "outputs": [
    {
     "name": "stdout",
     "output_type": "stream",
     "text": [
      "10 20 30 "
     ]
    }
   ],
   "source": [
    "List.add_between(20,10)\n",
    "List.add_between(30,20)\n",
    "List.add_between(5)\n",
    "List.Print_Linked_List()"
   ]
  },
  {
   "cell_type": "code",
   "execution_count": null,
   "id": "ae921487",
   "metadata": {},
   "outputs": [],
   "source": []
  }
 ],
 "metadata": {
  "kernelspec": {
   "display_name": "Python 3 (ipykernel)",
   "language": "python",
   "name": "python3"
  },
  "language_info": {
   "codemirror_mode": {
    "name": "ipython",
    "version": 3
   },
   "file_extension": ".py",
   "mimetype": "text/x-python",
   "name": "python",
   "nbconvert_exporter": "python",
   "pygments_lexer": "ipython3",
   "version": "3.11.5"
  }
 },
 "nbformat": 4,
 "nbformat_minor": 5
}

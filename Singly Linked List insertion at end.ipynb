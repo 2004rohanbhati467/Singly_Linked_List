{
 "cells": [
  {
   "cell_type": "markdown",
   "id": "c65b97b9",
   "metadata": {},
   "source": [
    "### Create Node"
   ]
  },
  {
   "cell_type": "code",
   "execution_count": 1,
   "id": "a9a178f7",
   "metadata": {},
   "outputs": [],
   "source": [
    "class Node:\n",
    "    def __init__(self,data):\n",
    "        self.data=data\n",
    "        self.ref=None"
   ]
  },
  {
   "cell_type": "markdown",
   "id": "2b119647",
   "metadata": {},
   "source": [
    "### Create Linked List"
   ]
  },
  {
   "cell_type": "markdown",
   "id": "8f93db5a",
   "metadata": {},
   "source": [
    "##### __init__() first list is empty so fill head as NULL\n",
    "##### add_last() function add the data item at last\n",
    "if head is none means list is empty so fill head as first node. Otherwise we traverse list till we get reference at Null in list\n",
    "then link last node ref as new_node reference\n",
    "\n",
    "##### Print_Linked_List() print data till last node reference is NULL"
   ]
  },
  {
   "cell_type": "code",
   "execution_count": 2,
   "id": "317d2273",
   "metadata": {},
   "outputs": [],
   "source": [
    "class Linked_List:\n",
    "    def __init__(self):\n",
    "        self.head=None\n",
    "    \n",
    "    def add_last(self,data):\n",
    "        new_node=Node(data)\n",
    "        if self.head is None:\n",
    "            self.head=new_node\n",
    "        else:\n",
    "            n=self.head\n",
    "            while n.ref is not None:\n",
    "                n=n.ref\n",
    "            n.ref=new_node\n",
    "            \n",
    "    def Print_Linked_List(self):\n",
    "        if self.head is None:\n",
    "            print('Linked List is Empty!\\n')\n",
    "        else:\n",
    "            n=self.head\n",
    "            while n is not None:\n",
    "                print(n.data,end=' ')\n",
    "                n=n.ref"
   ]
  },
  {
   "cell_type": "code",
   "execution_count": 3,
   "id": "908ad9e5",
   "metadata": {},
   "outputs": [],
   "source": [
    "List=Linked_List()\n",
    "List.add_last(50)\n",
    "List.add_last(40)\n",
    "List.add_last(30)\n",
    "List.add_last(20)\n",
    "List.add_last(10)"
   ]
  },
  {
   "cell_type": "code",
   "execution_count": 4,
   "id": "936e42b3",
   "metadata": {},
   "outputs": [
    {
     "name": "stdout",
     "output_type": "stream",
     "text": [
      "50 40 30 20 10 "
     ]
    }
   ],
   "source": [
    "List.Print_Linked_List()"
   ]
  },
  {
   "cell_type": "code",
   "execution_count": null,
   "id": "8a0ce978",
   "metadata": {},
   "outputs": [],
   "source": []
  }
 ],
 "metadata": {
  "kernelspec": {
   "display_name": "Python 3 (ipykernel)",
   "language": "python",
   "name": "python3"
  },
  "language_info": {
   "codemirror_mode": {
    "name": "ipython",
    "version": 3
   },
   "file_extension": ".py",
   "mimetype": "text/x-python",
   "name": "python",
   "nbconvert_exporter": "python",
   "pygments_lexer": "ipython3",
   "version": "3.11.5"
  }
 },
 "nbformat": 4,
 "nbformat_minor": 5
}
